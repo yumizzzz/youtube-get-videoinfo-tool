{
 "cells": [
  {
   "cell_type": "code",
   "execution_count": null,
   "metadata": {},
   "outputs": [],
   "source": [
    "import requests\n",
    "from bs4 import BeautifulSoup\n",
    "# Webページを取得して解析する\n",
    "\n",
    "load_url = \"https://www.youtube.com/c/NKTofficial\"\n",
    "html = requests.get(load_url)\n",
    "soup = BeautifulSoup(html.content, \"html.parser\")\n",
    "\n",
    "# HTML全体を表示する\n",
    "print(soup)"
   ]
  },
  {
   "cell_type": "code",
   "execution_count": 165,
   "metadata": {},
   "outputs": [],
   "source": [
    "for link in soup.find_all('link'):\n",
    "    if 'https://www.youtube.com/feeds/videos.xml?channel_id=' in link.attrs['href']:\n",
    "        channel_id = link.attrs['href'].split('channel_id=')[-1]\n",
    "        break"
   ]
  },
  {
   "cell_type": "code",
   "execution_count": 169,
   "metadata": {},
   "outputs": [
    {
     "data": {
      "text/plain": [
       "'https://www.youtube.com/feeds/videos.xml?channel_id=UCFo4kqllbcQ4nV83WCyraiw'"
      ]
     },
     "execution_count": 169,
     "metadata": {},
     "output_type": "execute_result"
    }
   ],
   "source": [
    "link.attrs['href']"
   ]
  },
  {
   "cell_type": "code",
   "execution_count": 166,
   "metadata": {},
   "outputs": [
    {
     "data": {
      "text/plain": [
       "[<link href=\"https://www.youtube.com/s/desktop/a2197efa/img/favicon.ico\" rel=\"shortcut icon\" type=\"image/x-icon\"/>,\n",
       " <link href=\"https://www.youtube.com/s/desktop/a2197efa/img/favicon_32x32.png\" rel=\"icon\" sizes=\"32x32\"/>,\n",
       " <link href=\"https://www.youtube.com/s/desktop/a2197efa/img/favicon_48x48.png\" rel=\"icon\" sizes=\"48x48\"/>,\n",
       " <link href=\"https://www.youtube.com/s/desktop/a2197efa/img/favicon_96x96.png\" rel=\"icon\" sizes=\"96x96\"/>,\n",
       " <link href=\"https://www.youtube.com/s/desktop/a2197efa/img/favicon_144x144.png\" rel=\"icon\" sizes=\"144x144\"/>,\n",
       " <link href=\"//fonts.googleapis.com/css2?family=Roboto:wght@300;400;500;700&amp;family=YouTube+Sans:wght@300..900&amp;display=swap\" nonce=\"BYJezYvh0w1_8Gg1RmdS7g\" rel=\"stylesheet\"/>,\n",
       " <link href=\"https://www.youtube.com/s/desktop/a2197efa/cssbin/www-onepick.css\" nonce=\"BYJezYvh0w1_8Gg1RmdS7g\" rel=\"stylesheet\"/>,\n",
       " <link href=\"https://www.youtube.com/opensearch?locale=ja_JP\" rel=\"search\" title=\"YouTube\" type=\"application/opensearchdescription+xml\"/>,\n",
       " <link crossorigin=\"use-credentials\" href=\"/manifest.webmanifest\" rel=\"manifest\"/>,\n",
       " <link href=\"https://www.youtube.com/channel/UCFo4kqllbcQ4nV83WCyraiw\" rel=\"canonical\"/>,\n",
       " <link href=\"https://m.youtube.com/c/NKTofficial\" media=\"handheld\" rel=\"alternate\"/>,\n",
       " <link href=\"https://m.youtube.com/c/NKTofficial\" media=\"only screen and (max-width: 640px)\" rel=\"alternate\"/>,\n",
       " <link href=\"https://www.youtube.com/feeds/videos.xml?channel_id=UCFo4kqllbcQ4nV83WCyraiw\" rel=\"alternate\" title=\"RSS\" type=\"application/rss+xml\"/>,\n",
       " <link href=\"https://yt3.ggpht.com/jMKQij9wu1GxgtVmQDZH811yUtBWvF36ZmtEQ7ctN8U4edVL9_3pJ6DCujHzeFF5u1Agtai4wQ=s900-c-k-c0x00ffffff-no-rj\" rel=\"image_src\"/>,\n",
       " <link href=\"https://www.youtube.com/channel/UCFo4kqllbcQ4nV83WCyraiw\" itemprop=\"url\"/>,\n",
       " <link href=\"https://www.youtube.com/channel/UCFo4kqllbcQ4nV83WCyraiw\" itemprop=\"url\"/>,\n",
       " <link content=\"中田敦彦のYouTube大学 - NAKATA UNIVERSITY\" itemprop=\"name\"/>,\n",
       " <link href=\"https://yt3.ggpht.com/jMKQij9wu1GxgtVmQDZH811yUtBWvF36ZmtEQ7ctN8U4edVL9_3pJ6DCujHzeFF5u1Agtai4wQ=s900-c-k-c0x00ffffff-no-rj\" itemprop=\"thumbnailUrl\"/>,\n",
       " <link href=\"https://yt3.ggpht.com/jMKQij9wu1GxgtVmQDZH811yUtBWvF36ZmtEQ7ctN8U4edVL9_3pJ6DCujHzeFF5u1Agtai4wQ=s900-c-k-c0x00ffffff-no-rj\" itemprop=\"url\"/>,\n",
       " <link href=\"android-app://com.google.android.youtube/http/www.youtube.com/channel/UCFo4kqllbcQ4nV83WCyraiw\" rel=\"alternate\"/>,\n",
       " <link href=\"ios-app://544007664/vnd.youtube/www.youtube.com/channel/UCFo4kqllbcQ4nV83WCyraiw\" rel=\"alternate\"/>,\n",
       " <link href=\"https://www.youtube.com/s/desktop/a2197efa/cssbin/www-main-desktop-watch-page-skeleton.css\" name=\"www-main-desktop-watch-page-skeleton\" nonce=\"BYJezYvh0w1_8Gg1RmdS7g\" rel=\"stylesheet\"/>]"
      ]
     },
     "execution_count": 166,
     "metadata": {},
     "output_type": "execute_result"
    }
   ],
   "source": [
    "soup.find_all('link')"
   ]
  }
 ],
 "metadata": {
  "kernelspec": {
   "display_name": "Python 3.9.13 64-bit",
   "language": "python",
   "name": "python3"
  },
  "language_info": {
   "codemirror_mode": {
    "name": "ipython",
    "version": 3
   },
   "file_extension": ".py",
   "mimetype": "text/x-python",
   "name": "python",
   "nbconvert_exporter": "python",
   "pygments_lexer": "ipython3",
   "version": "3.9.13"
  },
  "orig_nbformat": 4,
  "vscode": {
   "interpreter": {
    "hash": "949777d72b0d2535278d3dc13498b2535136f6dfe0678499012e853ee9abcab1"
   }
  }
 },
 "nbformat": 4,
 "nbformat_minor": 2
}
